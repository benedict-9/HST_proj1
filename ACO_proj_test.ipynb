{
 "cells": [
  {
   "cell_type": "markdown",
   "id": "3e41a08f",
   "metadata": {},
   "source": [
    "### Import starting libraries, initial parameters"
   ]
  },
  {
   "cell_type": "code",
   "execution_count": 10,
   "id": "970b1f29",
   "metadata": {},
   "outputs": [],
   "source": [
    "import matplotlib.pyplot as plt\n",
    "import random\n",
    "import numpy as np\n",
    "\n",
    "\n",
    "random.seed(42)\n",
    "np.random.seed(42)"
   ]
  },
  {
   "cell_type": "markdown",
   "id": "87589d61",
   "metadata": {},
   "source": [
    "### Define initial variables "
   ]
  },
  {
   "cell_type": "code",
   "execution_count": 11,
   "id": "f5d6e1c3",
   "metadata": {},
   "outputs": [],
   "source": [
    "# Problem size\n",
    "nbrblood = 100\n",
    "nbrcoll = 2000\n",
    "nbrprivh = 20\n",
    "nbrpubh = 30\n",
    "\n",
    "\n",
    "# Define coords for each type of location\n",
    "x_coordCC = np.random.uniform(0, 100, nbrcoll)\n",
    "y_coordCC = np.random.uniform(0, 100, nbrcoll)\n",
    "x_coordBB = np.random.uniform(0, 100, nbrblood)\n",
    "y_coordBB = np.random.uniform(0, 100, nbrblood)\n",
    "x_coord_privhosp = np.random.uniform(0, 100, nbrprivh)\n",
    "y_coord_privhosp = np.random.uniform(0, 100, nbrprivh)\n",
    "x_coord_pubhosp = np.random.uniform(0, 100, nbrpubh)\n",
    "y_coord_pubhosp = np.random.uniform(0, 100, nbrpubh)\n",
    "\n",
    "\n",
    "R = 6371\n",
    "\n",
    "def deg_to_rad(degrees):\n",
    "    return degrees*(np.pi/180)\n",
    "\n",
    "# Use Euclidean distance for random data\n",
    "distancelct = np.empty([nbrblood, nbrcoll])\n",
    "for i_index in range(nbrblood):\n",
    "    for j_index in range(nbrcoll):\n",
    "        distancelct[i_index, j_index] = np.linalg.norm(\n",
    "            [x_coordBB[i_index] - x_coordCC[j_index], y_coordBB[i_index] - y_coordCC[j_index]]\n",
    "        )\n",
    "\n",
    "distanceBB_priv = np.empty((nbrblood, nbrprivh))\n",
    "for i_index in range(nbrblood):\n",
    "    for h_index in range(nbrprivh):\n",
    "        distanceBB_priv[i_index, h_index] = np.linalg.norm(\n",
    "            [x_coordBB[i_index] - x_coord_privhosp[h_index], y_coordBB[i_index] - y_coord_privhosp[h_index]]\n",
    "        )\n",
    "\n",
    "distanceBB_pub = np.empty((nbrblood, nbrpubh))\n",
    "for i_index in range(nbrblood):\n",
    "    for h_index in range(nbrpubh):\n",
    "        distanceBB_pub[i_index, h_index] = np.linalg.norm(\n",
    "            [x_coordBB[i_index] - x_coord_pubhosp[h_index], y_coordBB[i_index] - y_coord_pubhosp[h_index]]\n",
    "        )\n",
    "\n",
    "# Generate random blood collection amounts and capacities\n",
    "q_c = np.random.randint(1, 10, nbrcoll)  # Amount of blood collected at each CC\n",
    "g_b = np.random.randint(50, 100, nbrblood)  # Min blood required at each bank\n",
    "q_b = np.random.randint(100, 200, nbrblood)  # Max capacity at each bank\n",
    "\n",
    "# For hospital demand, generate random values for demonstration\n",
    "hospital_demand = np.random.randint(1, 10, nbrprivh + nbrpubh)\n",
    "\n",
    "# Prepare coordinates for plotting and TSP\n",
    "comm_coords = list(zip(x_coordCC, y_coordCC))\n",
    "bank_coords = list(zip(x_coordBB, y_coordBB))\n",
    "privhosp_coords = list(zip(x_coord_privhosp, y_coord_privhosp))\n",
    "pubhosp_coords = list(zip(x_coord_pubhosp, y_coord_pubhosp))"
   ]
  },
  {
   "cell_type": "markdown",
   "id": "34ff1334",
   "metadata": {},
   "source": [
    "### Initialize ACO Parameters"
   ]
  },
  {
   "cell_type": "code",
   "execution_count": 12,
   "id": "f5c46686",
   "metadata": {},
   "outputs": [],
   "source": [
    "# Starting parameters\n",
    "num_ants = 100\n",
    "num_iterations = 100\n",
    "alpha = 1\n",
    "beta = 2\n",
    "rho = 0.05\n",
    "Q = 1\n",
    "\n",
    "# Find total number of objects for ACO\n",
    "num_objects = nbrblood+nbrcoll+nbrprivh+nbrpubh\n",
    "objects = [(random.randint(1, 20), random.randint(10, 100)) for _ in range(num_objects)]\n",
    "capacity = q_b\n",
    "\n",
    "# Initialize pheromons on each object to be 1\n",
    "pheromones = np.ones(num_objects)\n",
    "\n",
    "# calculate value/weight as one indicator for solution quality\n",
    "heuristic = [val / wt for wt, val in objects]"
   ]
  },
  {
   "cell_type": "markdown",
   "id": "97b78dfc",
   "metadata": {},
   "source": [
    "### ACO iterations\n",
    "\n",
    "1. Each ant builds a solution\n",
    "2. Solution evaluated based on value and weight\n",
    "3. Pheromones updated"
   ]
  },
  {
   "cell_type": "code",
   "execution_count": 15,
   "id": "e86be255",
   "metadata": {},
   "outputs": [
    {
     "ename": "IndexError",
     "evalue": "invalid index to scalar variable.",
     "output_type": "error",
     "traceback": [
      "\u001b[1;31m---------------------------------------------------------------------------\u001b[0m",
      "\u001b[1;31mIndexError\u001b[0m                                Traceback (most recent call last)",
      "Cell \u001b[1;32mIn[15], line 21\u001b[0m\n\u001b[0;32m     19\u001b[0m \u001b[38;5;28;01mif\u001b[39;00m bb_blood[i] \u001b[38;5;241m+\u001b[39m q_c[j] \u001b[38;5;241m<\u001b[39m\u001b[38;5;241m=\u001b[39m q_b[i]:\n\u001b[0;32m     20\u001b[0m     eta \u001b[38;5;241m=\u001b[39m \u001b[38;5;241m1\u001b[39m \u001b[38;5;241m/\u001b[39m (distancelct[i][j] \u001b[38;5;241m+\u001b[39m \u001b[38;5;241m1e-6\u001b[39m)\n\u001b[1;32m---> 21\u001b[0m     tau \u001b[38;5;241m=\u001b[39m \u001b[43mpheromones\u001b[49m\u001b[43m[\u001b[49m\u001b[43mi\u001b[49m\u001b[43m]\u001b[49m\u001b[43m[\u001b[49m\u001b[43mj\u001b[49m\u001b[43m]\u001b[49m\n\u001b[0;32m     22\u001b[0m     probs\u001b[38;5;241m.\u001b[39mappend((tau \u001b[38;5;241m*\u001b[39m\u001b[38;5;241m*\u001b[39m alpha) \u001b[38;5;241m*\u001b[39m (eta \u001b[38;5;241m*\u001b[39m\u001b[38;5;241m*\u001b[39m beta))\n\u001b[0;32m     23\u001b[0m \u001b[38;5;28;01melse\u001b[39;00m:\n",
      "\u001b[1;31mIndexError\u001b[0m: invalid index to scalar variable."
     ]
    }
   ],
   "source": [
    "# initialization\n",
    "best_solution = None\n",
    "best_value = 0\n",
    "best_values_over_time = []\n",
    "\n",
    "for iteration in range (num_iterations):\n",
    "    all_solutions = []\n",
    "    all_costs = []\n",
    "\n",
    "    for ant in range(num_ants):\n",
    "        assignment = []\n",
    "        bb_blood = np.zeros(nbrblood)\n",
    "        feasible = True\n",
    "        total_cost = 0\n",
    "\n",
    "        for j in range(nbrcoll):  # for each CC\n",
    "                probs = []\n",
    "                for i in range(nbrblood):  # for each BB\n",
    "                    if bb_blood[i] + q_c[j] <= q_b[i]:\n",
    "                        eta = 1 / (distancelct[i][j] + 1e-6)\n",
    "                        tau = pheromones[i][j]\n",
    "                        probs.append((tau ** alpha) * (eta ** beta))\n",
    "                    else:\n",
    "                        probs.append(0)\n",
    "\n",
    "                probs = np.array(probs)\n",
    "                if probs.sum() == 0:\n",
    "                    feasible = False\n",
    "                    break  # this ant cannot complete a valid assignment\n",
    "\n",
    "                probs /= probs.sum()\n",
    "                chosen_i = np.random.choice(nbrblood, p=probs)\n",
    "\n",
    "                assignment.append(chosen_i)\n",
    "                bb_blood[chosen_i] += q_c[j]\n",
    "                total_cost += distancelct[chosen_i][j]\n",
    "\n",
    "        if feasible:\n",
    "            all_solutions.append(assignment)\n",
    "            all_costs.append(total_cost)\n",
    "\n",
    "            if total_cost < best_cost:\n",
    "                best_cost = total_cost\n",
    "                best_solution = assignment\n",
    "\n",
    "    #leave the pheromones on the items selected by the ants.\n",
    "    pheromones = (1 - rho) * pheromones\n",
    "    for solution, value in zip(all_solutions, all_costs):\n",
    "        for j,i in enumerate(solution):\n",
    "            pheromones[i] += Q / (cost + 1e-6)\n",
    "\n",
    "    #for printing the best value found so far in each iteration\n",
    "    best_values_over_time.append(best_value)\n",
    "    \n",
    "    print(f\"Iteration {iteration}: Best = {best_value}\")"
   ]
  }
 ],
 "metadata": {
  "kernelspec": {
   "display_name": "Python 3",
   "language": "python",
   "name": "python3"
  },
  "language_info": {
   "codemirror_mode": {
    "name": "ipython",
    "version": 3
   },
   "file_extension": ".py",
   "mimetype": "text/x-python",
   "name": "python",
   "nbconvert_exporter": "python",
   "pygments_lexer": "ipython3",
   "version": "3.11.4"
  }
 },
 "nbformat": 4,
 "nbformat_minor": 5
}
